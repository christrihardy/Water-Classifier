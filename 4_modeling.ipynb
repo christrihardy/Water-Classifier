{
 "cells": [
  {
   "cell_type": "markdown",
   "metadata": {},
   "source": [
    "### **1. Load Libraries**"
   ]
  },
  {
   "cell_type": "code",
   "execution_count": 1,
   "metadata": {},
   "outputs": [],
   "source": [
    "import src.util as utils\n",
    "import pandas as pd\n",
    "import numpy as np\n",
    "import matplotlib.pyplot as plt\n",
    "\n",
    "from sklearn.svm import SVC\n",
    "from sklearn.ensemble import RandomForestClassifier\n",
    "from sklearn.neighbors import KNeighborsClassifier\n",
    "\n",
    "from sklearn.metrics import classification_report, ConfusionMatrixDisplay, roc_curve, roc_auc_score\n",
    "from sklearn.model_selection import RandomizedSearchCV, GridSearchCV\n",
    "\n",
    "from datetime import datetime\n",
    "from tqdm import tqdm\n",
    "import yaml\n",
    "import json\n",
    "import pandas as pd\n",
    "import matplotlib.pyplot as plt\n",
    "import seaborn as sns\n",
    "import copy\n",
    "import hashlib"
   ]
  },
  {
   "cell_type": "markdown",
   "metadata": {},
   "source": [
    "### **2. Load Config File**"
   ]
  },
  {
   "cell_type": "code",
   "execution_count": 2,
   "metadata": {},
   "outputs": [],
   "source": [
    "config = utils.load_config()"
   ]
  },
  {
   "cell_type": "markdown",
   "metadata": {},
   "source": [
    "### **3. Load Train, Valid, Test**"
   ]
  },
  {
   "cell_type": "code",
   "execution_count": 3,
   "metadata": {},
   "outputs": [],
   "source": [
    "def load_train_feng(params: dict) -> pd.DataFrame:\n",
    "    # Load train set\n",
    "    x_train = utils.pickle_load(params[\"train_feng_set_path\"][0])\n",
    "    y_train = utils.pickle_load(params[\"train_feng_set_path\"][1])\n",
    "\n",
    "    return x_train, y_train\n",
    "\n",
    "def load_valid(params: dict) -> pd.DataFrame:\n",
    "    # Load valid set\n",
    "    x_valid = utils.pickle_load(params[\"valid_feng_set_path\"][0])\n",
    "    y_valid = utils.pickle_load(params[\"valid_feng_set_path\"][1])\n",
    "\n",
    "    return x_valid, y_valid\n",
    "\n",
    "def load_test(params: dict) -> pd.DataFrame:\n",
    "    # Load tets set\n",
    "    x_test = utils.pickle_load(params[\"test_feng_set_path\"][0])\n",
    "    y_test = utils.pickle_load(params[\"test_feng_set_path\"][1])\n",
    "\n",
    "    return x_test, y_test"
   ]
  },
  {
   "cell_type": "code",
   "execution_count": 4,
   "metadata": {},
   "outputs": [],
   "source": [
    "x_train, y_train = load_train_feng(config)\n",
    "x_valid, y_valid = load_valid(config)\n",
    "x_test, y_test = load_test(config)"
   ]
  },
  {
   "cell_type": "markdown",
   "metadata": {},
   "source": [
    "### **4. Create Log Template**"
   ]
  },
  {
   "cell_type": "code",
   "execution_count": 5,
   "metadata": {},
   "outputs": [],
   "source": [
    "# Create training log function\n",
    "\n",
    "def time_stamp():\n",
    "    return datetime.now()\n",
    "\n",
    "def create_log_template():\n",
    "    logger = {\n",
    "        \"model_name\" : [],\n",
    "        \"model_uid\" : [],\n",
    "        \"training_time\" : [],\n",
    "        \"training_date\" : [],\n",
    "        \"performance\" : [],\n",
    "        \"f1_avg\" : [],\n",
    "        \"data_configurations\" : [],\n",
    "    }\n",
    "\n",
    "    return logger"
   ]
  },
  {
   "cell_type": "code",
   "execution_count": 6,
   "metadata": {},
   "outputs": [],
   "source": [
    "# Create training log updater\n",
    "\n",
    "def training_log_updater(current_log, log_path):\n",
    "    current_log = current_log.copy()\n",
    "\n",
    "    log_path = config[\"training_log_path\"]\n",
    "\n",
    "    try:\n",
    "        with open(log_path, \"r\") as file:\n",
    "            last_log = json.load(file)\n",
    "        file.close()\n",
    "    except FileNotFoundError as ffe:\n",
    "        with open(log_path, \"w\") as file:\n",
    "            file.write(\"[]\")\n",
    "        file.close()\n",
    "        with open(log_path, \"r\") as file:\n",
    "            last_log = json.load(file)\n",
    "        file.close()\n",
    "    \n",
    "    last_log.append(current_log)\n",
    "\n",
    "    with open(log_path, \"w\") as file:\n",
    "        json.dump(last_log, file)\n",
    "        file.close()\n",
    "\n",
    "    return last_log"
   ]
  },
  {
   "cell_type": "markdown",
   "metadata": {},
   "source": [
    "### **5. Training Model**"
   ]
  },
  {
   "cell_type": "markdown",
   "metadata": {},
   "source": [
    "5.1. Create Model Object"
   ]
  },
  {
   "cell_type": "code",
   "execution_count": 7,
   "metadata": {},
   "outputs": [],
   "source": [
    "# Base Model\n",
    "svm_baseline = SVC()\n",
    "rf_baseline = RandomForestClassifier()\n",
    "knn_baseline = KNeighborsClassifier()"
   ]
  },
  {
   "cell_type": "code",
   "execution_count": 8,
   "metadata": {},
   "outputs": [],
   "source": [
    "list_of_model = {\n",
    "    \"smote\" : [\n",
    "        { \"model_name\": svm_baseline.__class__.__name__, \"model_object\": svm_baseline, \"model_uid\": \"\"},\n",
    "        { \"model_name\": rf_baseline.__class__.__name__, \"model_object\": rf_baseline, \"model_uid\": \"\"},\n",
    "        { \"model_name\": knn_baseline.__class__.__name__, \"model_object\": knn_baseline, \"model_uid\": \"\"}\n",
    "        ]\n",
    "    }"
   ]
  },
  {
   "cell_type": "markdown",
   "metadata": {},
   "source": [
    "5.2. Training Model"
   ]
  },
  {
   "cell_type": "code",
   "execution_count": 9,
   "metadata": {},
   "outputs": [],
   "source": [
    "# Function to fit model and logging to training log\n",
    "def train_eval_model(list_of_model, prefix_model_name, x_train, y_train, data_configuration_name, x_valid, y_valid, log_path):\n",
    "\n",
    "    list_of_model = copy.deepcopy(list_of_model)\n",
    "    logger = create_log_template()\n",
    "\n",
    "    for model in tqdm(list_of_model):    \n",
    "        model_name = prefix_model_name + \"-\" + model[\"model_name\"]\n",
    "\n",
    "        start_time = time_stamp()\n",
    "        model[\"model_object\"].fit(x_train, y_train)\n",
    "        finished_time = time_stamp()\n",
    "\n",
    "        elapsed_time = finished_time - start_time\n",
    "        elapsed_time = elapsed_time.total_seconds()\n",
    "\n",
    "        y_pred = model[\"model_object\"].predict(x_valid)\n",
    "        performance = classification_report(y_valid, y_pred, output_dict = True)\n",
    "\n",
    "        plain_id = str(start_time) + str(finished_time)\n",
    "        chiper_id = hashlib.md5(plain_id.encode()).hexdigest()\n",
    "\n",
    "        model[\"model_uid\"] = chiper_id\n",
    "\n",
    "        logger[\"model_name\"].append(model_name)\n",
    "        logger[\"model_uid\"].append(chiper_id)\n",
    "        logger[\"training_time\"].append(elapsed_time)\n",
    "        logger[\"training_date\"].append(str(start_time))\n",
    "        logger[\"performance\"].append(performance)\n",
    "        logger[\"f1_avg\"].append(performance['macro avg'][\"f1-score\"])\n",
    "        logger[\"data_configurations\"].append(data_configuration_name)\n",
    "\n",
    "    training_log = training_log_updater(logger, log_path)\n",
    "\n",
    "    return training_log, list_of_model"
   ]
  },
  {
   "cell_type": "markdown",
   "metadata": {},
   "source": [
    "5.2.1. Baseline Model - SMOTE"
   ]
  },
  {
   "cell_type": "code",
   "execution_count": 10,
   "metadata": {},
   "outputs": [
    {
     "name": "stderr",
     "output_type": "stream",
     "text": [
      " 67%|██████▋   | 2/3 [00:00<00:00,  2.00it/s]c:\\Users\\Mint_01\\anaconda3\\lib\\site-packages\\sklearn\\neighbors\\_classification.py:228: FutureWarning: Unlike other reduction functions (e.g. `skew`, `kurtosis`), the default behavior of `mode` typically preserves the axis it acts along. In SciPy 1.11.0, this behavior will change: the default value of `keepdims` will become False, the `axis` over which the statistic is taken will be eliminated, and the value None will no longer be accepted. Set `keepdims` to True or False to avoid this warning.\n",
      "  mode, _ = stats.mode(_y[neigh_ind, k], axis=1)\n",
      "100%|██████████| 3/3 [00:01<00:00,  2.97it/s]\n"
     ]
    }
   ],
   "source": [
    "training_log, list_of_model_sm = train_eval_model(\n",
    "    list_of_model[\"smote\"],\n",
    "    \"baseline_model\",\n",
    "    x_train,\n",
    "    y_train,\n",
    "    \"smote\",\n",
    "    x_valid,\n",
    "    y_valid,\n",
    "    \"log/training_log.json\"\n",
    ")"
   ]
  },
  {
   "cell_type": "code",
   "execution_count": 11,
   "metadata": {},
   "outputs": [],
   "source": [
    "list_of_model[\"smote\"] = copy.deepcopy(list_of_model_sm)"
   ]
  },
  {
   "cell_type": "markdown",
   "metadata": {},
   "source": [
    "5.3. Best Performance"
   ]
  },
  {
   "cell_type": "code",
   "execution_count": 12,
   "metadata": {},
   "outputs": [],
   "source": [
    "# Function to convert training log.json to dataframe\n",
    "def training_log_to_df(training_log):\n",
    "    training_res = pd.DataFrame()\n",
    "\n",
    "    for log in tqdm(training_log):\n",
    "        training_res = pd.concat([training_res, pd.DataFrame(log)])\n",
    "    \n",
    "    training_res.sort_values([\"f1_avg\", \"training_time\"], ascending = [False, True], inplace = True)\n",
    "    training_res.reset_index(inplace = True, drop = True)\n",
    "    \n",
    "    return training_res"
   ]
  },
  {
   "cell_type": "code",
   "execution_count": 13,
   "metadata": {},
   "outputs": [
    {
     "name": "stderr",
     "output_type": "stream",
     "text": [
      "100%|██████████| 1/1 [00:00<00:00, 499.62it/s]\n"
     ]
    }
   ],
   "source": [
    "training_res = training_log_to_df(training_log)"
   ]
  },
  {
   "cell_type": "code",
   "execution_count": 14,
   "metadata": {},
   "outputs": [
    {
     "data": {
      "text/html": [
       "<div>\n",
       "<style scoped>\n",
       "    .dataframe tbody tr th:only-of-type {\n",
       "        vertical-align: middle;\n",
       "    }\n",
       "\n",
       "    .dataframe tbody tr th {\n",
       "        vertical-align: top;\n",
       "    }\n",
       "\n",
       "    .dataframe thead th {\n",
       "        text-align: right;\n",
       "    }\n",
       "</style>\n",
       "<table border=\"1\" class=\"dataframe\">\n",
       "  <thead>\n",
       "    <tr style=\"text-align: right;\">\n",
       "      <th></th>\n",
       "      <th>model_name</th>\n",
       "      <th>model_uid</th>\n",
       "      <th>training_time</th>\n",
       "      <th>training_date</th>\n",
       "      <th>performance</th>\n",
       "      <th>f1_avg</th>\n",
       "      <th>data_configurations</th>\n",
       "    </tr>\n",
       "  </thead>\n",
       "  <tbody>\n",
       "    <tr>\n",
       "      <th>0</th>\n",
       "      <td>baseline_model-RandomForestClassifier</td>\n",
       "      <td>169a0d4df22dabe960dba082a0d0d33b</td>\n",
       "      <td>0.554969</td>\n",
       "      <td>2023-09-05 18:13:12.124864</td>\n",
       "      <td>{'0': {'precision': 0.7033333333333334, 'recal...</td>\n",
       "      <td>0.618682</td>\n",
       "      <td>smote</td>\n",
       "    </tr>\n",
       "    <tr>\n",
       "      <th>1</th>\n",
       "      <td>baseline_model-SVC</td>\n",
       "      <td>0f09ecbbf1b24e019ad1c184cc28c2b9</td>\n",
       "      <td>0.315032</td>\n",
       "      <td>2023-09-05 18:13:11.720834</td>\n",
       "      <td>{'0': {'precision': 0.7126865671641791, 'recal...</td>\n",
       "      <td>0.611630</td>\n",
       "      <td>smote</td>\n",
       "    </tr>\n",
       "    <tr>\n",
       "      <th>2</th>\n",
       "      <td>baseline_model-KNeighborsClassifier</td>\n",
       "      <td>c52495e6d2a89e046d6efc727e49de4e</td>\n",
       "      <td>0.004968</td>\n",
       "      <td>2023-09-05 18:13:12.694864</td>\n",
       "      <td>{'0': {'precision': 0.6974169741697417, 'recal...</td>\n",
       "      <td>0.596205</td>\n",
       "      <td>smote</td>\n",
       "    </tr>\n",
       "  </tbody>\n",
       "</table>\n",
       "</div>"
      ],
      "text/plain": [
       "                              model_name                         model_uid  \\\n",
       "0  baseline_model-RandomForestClassifier  169a0d4df22dabe960dba082a0d0d33b   \n",
       "1                     baseline_model-SVC  0f09ecbbf1b24e019ad1c184cc28c2b9   \n",
       "2    baseline_model-KNeighborsClassifier  c52495e6d2a89e046d6efc727e49de4e   \n",
       "\n",
       "   training_time               training_date  \\\n",
       "0       0.554969  2023-09-05 18:13:12.124864   \n",
       "1       0.315032  2023-09-05 18:13:11.720834   \n",
       "2       0.004968  2023-09-05 18:13:12.694864   \n",
       "\n",
       "                                         performance    f1_avg  \\\n",
       "0  {'0': {'precision': 0.7033333333333334, 'recal...  0.618682   \n",
       "1  {'0': {'precision': 0.7126865671641791, 'recal...  0.611630   \n",
       "2  {'0': {'precision': 0.6974169741697417, 'recal...  0.596205   \n",
       "\n",
       "  data_configurations  \n",
       "0               smote  \n",
       "1               smote  \n",
       "2               smote  "
      ]
     },
     "execution_count": 14,
     "metadata": {},
     "output_type": "execute_result"
    }
   ],
   "source": [
    "training_res"
   ]
  },
  {
   "cell_type": "code",
   "execution_count": 15,
   "metadata": {},
   "outputs": [],
   "source": [
    "# Function to get the best model out of 3 model\n",
    "def get_best_model(training_log_df, list_of_model):\n",
    "    model_object = None\n",
    "\n",
    "    best_model_info = training_log_df.sort_values([\"f1_avg\", \"training_time\"], ascending = [False, True]).iloc[0]\n",
    "    \n",
    "    for configuration_data in list_of_model:\n",
    "        for model_data in list_of_model[configuration_data]:\n",
    "            if model_data[\"model_uid\"] == best_model_info[\"model_uid\"]:\n",
    "                model_object = model_data[\"model_object\"]\n",
    "                break\n",
    "    \n",
    "    if model_object == None:\n",
    "        raise RuntimeError(\"The best model not found in your list of model.\")\n",
    "    \n",
    "    return model_object\n",
    "    "
   ]
  },
  {
   "cell_type": "code",
   "execution_count": 16,
   "metadata": {},
   "outputs": [],
   "source": [
    "model = get_best_model(training_res, list_of_model)"
   ]
  },
  {
   "cell_type": "code",
   "execution_count": 17,
   "metadata": {},
   "outputs": [
    {
     "data": {
      "text/plain": [
       "RandomForestClassifier()"
      ]
     },
     "execution_count": 17,
     "metadata": {},
     "output_type": "execute_result"
    }
   ],
   "source": [
    "model"
   ]
  },
  {
   "cell_type": "markdown",
   "metadata": {},
   "source": [
    "Best model is **Random Forest Classifier**"
   ]
  },
  {
   "cell_type": "markdown",
   "metadata": {},
   "source": [
    "### **6. Hyperparameter Tuning**"
   ]
  },
  {
   "cell_type": "code",
   "execution_count": 18,
   "metadata": {},
   "outputs": [],
   "source": [
    "# Random Forest parameters\n",
    "\n",
    "dist_params_rf = {\n",
    "        \"criterion\" : [\"gini\", \"entropy\"],\n",
    "        \"n_estimators\" : [10, 20, 30, 50, 100, 500],\n",
    "        \"min_samples_split\" : [2, 4, 6, 10, 15, 20, 25],\n",
    "        \"min_samples_leaf\" : np.arange(2, 31),\n",
    "        \"max_features\": ['sqrt', 'log2'],\n",
    "        \"max_depth\": range(1,20)\n",
    "}"
   ]
  },
  {
   "cell_type": "code",
   "execution_count": 19,
   "metadata": {},
   "outputs": [],
   "source": [
    "# Tuning with Random search\n",
    "rf_enh = RandomizedSearchCV(rf_baseline,\n",
    "                          param_distributions = dist_params_rf,\n",
    "                          cv = 3,\n",
    "                          n_jobs = -1,\n",
    "                          scoring = 'f1_macro',\n",
    "                          verbose = 3\n",
    "                          )"
   ]
  },
  {
   "cell_type": "code",
   "execution_count": 20,
   "metadata": {},
   "outputs": [],
   "source": [
    "list_of_model[\"smote\"].append({\"model_name\": rf_enh.__class__.__name__ + \"-\" + rf_enh.estimator.__class__.__name__, \"model_object\": copy.deepcopy(rf_enh), \"model_uid\": \"\"})"
   ]
  },
  {
   "cell_type": "code",
   "execution_count": 21,
   "metadata": {},
   "outputs": [
    {
     "name": "stderr",
     "output_type": "stream",
     "text": [
      "  0%|          | 0/1 [00:00<?, ?it/s]"
     ]
    },
    {
     "name": "stdout",
     "output_type": "stream",
     "text": [
      "Fitting 3 folds for each of 10 candidates, totalling 30 fits\n"
     ]
    },
    {
     "name": "stderr",
     "output_type": "stream",
     "text": [
      "100%|██████████| 1/1 [00:05<00:00,  5.55s/it]\n"
     ]
    }
   ],
   "source": [
    "training_log, list_of_model_smote_hyp = train_eval_model(\n",
    "    [list_of_model[\"smote\"][-1]],\n",
    "    \"hyperparams\",\n",
    "    x_train,\n",
    "    y_train,\n",
    "    \"smote\",\n",
    "    x_valid,\n",
    "    y_valid,\n",
    "    \"log/training_log.json\")"
   ]
  },
  {
   "cell_type": "code",
   "execution_count": 22,
   "metadata": {},
   "outputs": [],
   "source": [
    "list_of_model[\"smote\"][-1] = copy.deepcopy(list_of_model_smote_hyp[0])"
   ]
  },
  {
   "cell_type": "code",
   "execution_count": 23,
   "metadata": {},
   "outputs": [
    {
     "data": {
      "text/plain": [
       "{'model_name': 'RandomizedSearchCV-RandomForestClassifier',\n",
       " 'model_object': RandomizedSearchCV(cv=3, estimator=RandomForestClassifier(), n_jobs=-1,\n",
       "                    param_distributions={'criterion': ['gini', 'entropy'],\n",
       "                                         'max_depth': range(1, 20),\n",
       "                                         'max_features': ['sqrt', 'log2'],\n",
       "                                         'min_samples_leaf': array([ 2,  3,  4,  5,  6,  7,  8,  9, 10, 11, 12, 13, 14, 15, 16, 17, 18,\n",
       "        19, 20, 21, 22, 23, 24, 25, 26, 27, 28, 29, 30]),\n",
       "                                         'min_samples_split': [2, 4, 6, 10, 15,\n",
       "                                                               20, 25],\n",
       "                                         'n_estimators': [10, 20, 30, 50, 100,\n",
       "                                                          500]},\n",
       "                    scoring='f1_macro', verbose=3),\n",
       " 'model_uid': '618bcc5f481f4ead3e3d7f7f0ef09610'}"
      ]
     },
     "execution_count": 23,
     "metadata": {},
     "output_type": "execute_result"
    }
   ],
   "source": [
    "list_of_model[\"smote\"][-1]"
   ]
  },
  {
   "cell_type": "code",
   "execution_count": 24,
   "metadata": {},
   "outputs": [
    {
     "name": "stderr",
     "output_type": "stream",
     "text": [
      "100%|██████████| 2/2 [00:00<00:00, 500.42it/s]\n"
     ]
    },
    {
     "data": {
      "text/html": [
       "<div>\n",
       "<style scoped>\n",
       "    .dataframe tbody tr th:only-of-type {\n",
       "        vertical-align: middle;\n",
       "    }\n",
       "\n",
       "    .dataframe tbody tr th {\n",
       "        vertical-align: top;\n",
       "    }\n",
       "\n",
       "    .dataframe thead th {\n",
       "        text-align: right;\n",
       "    }\n",
       "</style>\n",
       "<table border=\"1\" class=\"dataframe\">\n",
       "  <thead>\n",
       "    <tr style=\"text-align: right;\">\n",
       "      <th></th>\n",
       "      <th>model_name</th>\n",
       "      <th>model_uid</th>\n",
       "      <th>training_time</th>\n",
       "      <th>training_date</th>\n",
       "      <th>performance</th>\n",
       "      <th>f1_avg</th>\n",
       "      <th>data_configurations</th>\n",
       "    </tr>\n",
       "  </thead>\n",
       "  <tbody>\n",
       "    <tr>\n",
       "      <th>0</th>\n",
       "      <td>hyperparams-RandomizedSearchCV-RandomForestCla...</td>\n",
       "      <td>618bcc5f481f4ead3e3d7f7f0ef09610</td>\n",
       "      <td>5.539779</td>\n",
       "      <td>2023-09-05 18:13:12.936148</td>\n",
       "      <td>{'0': {'precision': 0.7238805970149254, 'recal...</td>\n",
       "      <td>0.624158</td>\n",
       "      <td>smote</td>\n",
       "    </tr>\n",
       "    <tr>\n",
       "      <th>1</th>\n",
       "      <td>baseline_model-RandomForestClassifier</td>\n",
       "      <td>169a0d4df22dabe960dba082a0d0d33b</td>\n",
       "      <td>0.554969</td>\n",
       "      <td>2023-09-05 18:13:12.124864</td>\n",
       "      <td>{'0': {'precision': 0.7033333333333334, 'recal...</td>\n",
       "      <td>0.618682</td>\n",
       "      <td>smote</td>\n",
       "    </tr>\n",
       "    <tr>\n",
       "      <th>2</th>\n",
       "      <td>baseline_model-SVC</td>\n",
       "      <td>0f09ecbbf1b24e019ad1c184cc28c2b9</td>\n",
       "      <td>0.315032</td>\n",
       "      <td>2023-09-05 18:13:11.720834</td>\n",
       "      <td>{'0': {'precision': 0.7126865671641791, 'recal...</td>\n",
       "      <td>0.611630</td>\n",
       "      <td>smote</td>\n",
       "    </tr>\n",
       "    <tr>\n",
       "      <th>3</th>\n",
       "      <td>baseline_model-KNeighborsClassifier</td>\n",
       "      <td>c52495e6d2a89e046d6efc727e49de4e</td>\n",
       "      <td>0.004968</td>\n",
       "      <td>2023-09-05 18:13:12.694864</td>\n",
       "      <td>{'0': {'precision': 0.6974169741697417, 'recal...</td>\n",
       "      <td>0.596205</td>\n",
       "      <td>smote</td>\n",
       "    </tr>\n",
       "  </tbody>\n",
       "</table>\n",
       "</div>"
      ],
      "text/plain": [
       "                                          model_name  \\\n",
       "0  hyperparams-RandomizedSearchCV-RandomForestCla...   \n",
       "1              baseline_model-RandomForestClassifier   \n",
       "2                                 baseline_model-SVC   \n",
       "3                baseline_model-KNeighborsClassifier   \n",
       "\n",
       "                          model_uid  training_time  \\\n",
       "0  618bcc5f481f4ead3e3d7f7f0ef09610       5.539779   \n",
       "1  169a0d4df22dabe960dba082a0d0d33b       0.554969   \n",
       "2  0f09ecbbf1b24e019ad1c184cc28c2b9       0.315032   \n",
       "3  c52495e6d2a89e046d6efc727e49de4e       0.004968   \n",
       "\n",
       "                training_date  \\\n",
       "0  2023-09-05 18:13:12.936148   \n",
       "1  2023-09-05 18:13:12.124864   \n",
       "2  2023-09-05 18:13:11.720834   \n",
       "3  2023-09-05 18:13:12.694864   \n",
       "\n",
       "                                         performance    f1_avg  \\\n",
       "0  {'0': {'precision': 0.7238805970149254, 'recal...  0.624158   \n",
       "1  {'0': {'precision': 0.7033333333333334, 'recal...  0.618682   \n",
       "2  {'0': {'precision': 0.7126865671641791, 'recal...  0.611630   \n",
       "3  {'0': {'precision': 0.6974169741697417, 'recal...  0.596205   \n",
       "\n",
       "  data_configurations  \n",
       "0               smote  \n",
       "1               smote  \n",
       "2               smote  \n",
       "3               smote  "
      ]
     },
     "execution_count": 24,
     "metadata": {},
     "output_type": "execute_result"
    }
   ],
   "source": [
    "training_log_to_df(training_log)"
   ]
  },
  {
   "cell_type": "markdown",
   "metadata": {},
   "source": [
    "### **7. Evaluation and Metrics**"
   ]
  },
  {
   "cell_type": "code",
   "execution_count": 25,
   "metadata": {},
   "outputs": [],
   "source": [
    "# Checkin Test data\n",
    "y_pred = model.predict(x_test)"
   ]
  },
  {
   "cell_type": "code",
   "execution_count": 26,
   "metadata": {},
   "outputs": [
    {
     "data": {
      "text/plain": [
       "<sklearn.metrics._plot.confusion_matrix.ConfusionMatrixDisplay at 0x1ee5d3521c0>"
      ]
     },
     "execution_count": 26,
     "metadata": {},
     "output_type": "execute_result"
    },
    {
     "data": {
      "image/png": "[encoded data removed]",
      "text/plain": [
       "<Figure size 640x480 with 2 Axes>"
      ]
     },
     "metadata": {},
     "output_type": "display_data"
    }
   ],
   "source": [
    "ConfusionMatrixDisplay.from_predictions(y_test, y_pred)"
   ]
  },
  {
   "cell_type": "code",
   "execution_count": 27,
   "metadata": {},
   "outputs": [
    {
     "name": "stdout",
     "output_type": "stream",
     "text": [
      "                 precision    recall  f1-score   support\n",
      "\n",
      "non-potable (0)       0.69      0.69      0.69       300\n",
      "    potable (1)       0.52      0.52      0.52       192\n",
      "\n",
      "       accuracy                           0.62       492\n",
      "      macro avg       0.60      0.60      0.60       492\n",
      "   weighted avg       0.62      0.62      0.62       492\n",
      "\n"
     ]
    }
   ],
   "source": [
    "print(classification_report(y_test,\n",
    "                        y_pred,\n",
    "                        target_names = [\"non-potable (0)\", \"potable (1)\"]))"
   ]
  },
  {
   "cell_type": "markdown",
   "metadata": {},
   "source": [
    "Model has accuracy of 0.62, which definitely still needs improvement"
   ]
  },
  {
   "cell_type": "markdown",
   "metadata": {},
   "source": [
    "### **8. Dump Production Model to Pickle**"
   ]
  },
  {
   "cell_type": "code",
   "execution_count": 28,
   "metadata": {},
   "outputs": [],
   "source": [
    "utils.pickle_dump(model, config[\"production_model_path\"])"
   ]
  }
 ],
 "metadata": {
  "kernelspec": {
   "display_name": "Python 3 (ipykernel)",
   "language": "python",
   "name": "python3"
  },
  "language_info": {
   "codemirror_mode": {
    "name": "ipython",
    "version": 3
   },
   "file_extension": ".py",
   "mimetype": "text/x-python",
   "name": "python",
   "nbconvert_exporter": "python",
   "pygments_lexer": "ipython3",
   "version": "3.9.13"
  }
 },
 "nbformat": 4,
 "nbformat_minor": 4
}
