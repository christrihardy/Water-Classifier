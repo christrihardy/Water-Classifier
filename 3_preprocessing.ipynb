{
 "cells": [
  {
   "cell_type": "markdown",
   "metadata": {},
   "source": [
    "### **1. Load Libraries**"
   ]
  },
  {
   "cell_type": "code",
   "execution_count": 1,
   "metadata": {},
   "outputs": [],
   "source": [
    "import src.util as utils\n",
    "import pandas as pd\n",
    "from imblearn.over_sampling import SMOTE\n",
    "from sklearn.preprocessing import StandardScaler"
   ]
  },
  {
   "cell_type": "markdown",
   "metadata": {},
   "source": [
    "### **2. Load Config File**"
   ]
  },
  {
   "cell_type": "code",
   "execution_count": 2,
   "metadata": {},
   "outputs": [],
   "source": [
    "config = utils.load_config()"
   ]
  },
  {
   "cell_type": "markdown",
   "metadata": {},
   "source": [
    "### **3. Load Dataset**"
   ]
  },
  {
   "cell_type": "code",
   "execution_count": 3,
   "metadata": {},
   "outputs": [],
   "source": [
    "def load_dataset(config_data: dict) -> pd.DataFrame:\n",
    "    # Load every set of data\n",
    "    x_train = utils.pickle_load(config_data[\"train_set_path\"][0])\n",
    "    y_train = utils.pickle_load(config_data[\"train_set_path\"][1])\n",
    "\n",
    "    x_valid = utils.pickle_load(config_data[\"valid_set_path\"][0])\n",
    "    y_valid = utils.pickle_load(config_data[\"valid_set_path\"][1])\n",
    "\n",
    "    x_test = utils.pickle_load(config_data[\"test_set_path\"][0])\n",
    "    y_test = utils.pickle_load(config_data[\"test_set_path\"][1])\n",
    "\n",
    "    # Return 6 set of data\n",
    "    return x_train, y_train, x_valid, y_valid, x_test, y_test"
   ]
  },
  {
   "cell_type": "code",
   "execution_count": 4,
   "metadata": {},
   "outputs": [],
   "source": [
    "x_train, y_train, x_valid, y_valid, x_test, y_test = load_dataset(config)"
   ]
  },
  {
   "cell_type": "markdown",
   "metadata": {},
   "source": [
    "### **4. Handling Missing Values**"
   ]
  },
  {
   "cell_type": "code",
   "execution_count": 5,
   "metadata": {},
   "outputs": [],
   "source": [
    "# Columns with missing values\n",
    "missing_column= [\"ph\", \"Sulfate\", \"Trihalomethanes\"]\n",
    "\n",
    "# make impute function with median\n",
    "def imputationMedian(data, column_with_null):\n",
    "\n",
    "    for columns in column_with_null:\n",
    "        median_value = data[columns].median()\n",
    "        data[columns].fillna(median_value, inplace = True)\n",
    "\n",
    "    return data"
   ]
  },
  {
   "cell_type": "markdown",
   "metadata": {},
   "source": [
    "Impute with median"
   ]
  },
  {
   "cell_type": "code",
   "execution_count": 6,
   "metadata": {},
   "outputs": [],
   "source": [
    "# Impute in Train set\n",
    "x_train = imputationMedian(x_train, missing_column)\n",
    "\n",
    "# Impute in Test set\n",
    "x_test= imputationMedian(x_test, missing_column)\n",
    "\n",
    "# Impute in Validation set\n",
    "x_valid = imputationMedian(x_valid, missing_column)"
   ]
  },
  {
   "cell_type": "markdown",
   "metadata": {},
   "source": [
    "Check result"
   ]
  },
  {
   "cell_type": "code",
   "execution_count": 7,
   "metadata": {},
   "outputs": [
    {
     "data": {
      "text/plain": [
       "ph                 False\n",
       "Hardness           False\n",
       "Solids             False\n",
       "Chloramines        False\n",
       "Sulfate            False\n",
       "Conductivity       False\n",
       "Organic_carbon     False\n",
       "Trihalomethanes    False\n",
       "Turbidity          False\n",
       "dtype: bool"
      ]
     },
     "execution_count": 7,
     "metadata": {},
     "output_type": "execute_result"
    }
   ],
   "source": [
    "# Check imputation result\n",
    "x_train.isna().any()"
   ]
  },
  {
   "cell_type": "code",
   "execution_count": 8,
   "metadata": {},
   "outputs": [
    {
     "data": {
      "text/plain": [
       "ph                 False\n",
       "Hardness           False\n",
       "Solids             False\n",
       "Chloramines        False\n",
       "Sulfate            False\n",
       "Conductivity       False\n",
       "Organic_carbon     False\n",
       "Trihalomethanes    False\n",
       "Turbidity          False\n",
       "dtype: bool"
      ]
     },
     "execution_count": 8,
     "metadata": {},
     "output_type": "execute_result"
    }
   ],
   "source": [
    "# check imputation result\n",
    "x_test.isna().any()"
   ]
  },
  {
   "cell_type": "code",
   "execution_count": 9,
   "metadata": {},
   "outputs": [
    {
     "data": {
      "text/plain": [
       "ph                 False\n",
       "Hardness           False\n",
       "Solids             False\n",
       "Chloramines        False\n",
       "Sulfate            False\n",
       "Conductivity       False\n",
       "Organic_carbon     False\n",
       "Trihalomethanes    False\n",
       "Turbidity          False\n",
       "dtype: bool"
      ]
     },
     "execution_count": 9,
     "metadata": {},
     "output_type": "execute_result"
    }
   ],
   "source": [
    "# check imputation result\n",
    "x_valid.isna().any()"
   ]
  },
  {
   "cell_type": "markdown",
   "metadata": {},
   "source": [
    "### **4. Balance Dataset**"
   ]
  },
  {
   "cell_type": "code",
   "execution_count": 10,
   "metadata": {},
   "outputs": [],
   "source": [
    "# balance data with smote\n",
    "x_train_smote, y_train_smote = SMOTE(sampling_strategy = \"minority\",\n",
    "            random_state = 123).fit_resample(x_train, y_train)\n"
   ]
  },
  {
   "cell_type": "code",
   "execution_count": 11,
   "metadata": {},
   "outputs": [
    {
     "data": {
      "text/plain": [
       "1    1398\n",
       "0    1398\n",
       "Name: Potability, dtype: int64"
      ]
     },
     "execution_count": 11,
     "metadata": {},
     "output_type": "execute_result"
    }
   ],
   "source": [
    "# check balanced data\n",
    "y_train_smote.value_counts()"
   ]
  },
  {
   "cell_type": "markdown",
   "metadata": {},
   "source": []
  },
  {
   "cell_type": "markdown",
   "metadata": {},
   "source": [
    "### **5. Scaling Dataset**"
   ]
  },
  {
   "cell_type": "code",
   "execution_count": 12,
   "metadata": {},
   "outputs": [
    {
     "data": {
      "text/html": [
       "<div>\n",
       "<style scoped>\n",
       "    .dataframe tbody tr th:only-of-type {\n",
       "        vertical-align: middle;\n",
       "    }\n",
       "\n",
       "    .dataframe tbody tr th {\n",
       "        vertical-align: top;\n",
       "    }\n",
       "\n",
       "    .dataframe thead th {\n",
       "        text-align: right;\n",
       "    }\n",
       "</style>\n",
       "<table border=\"1\" class=\"dataframe\">\n",
       "  <thead>\n",
       "    <tr style=\"text-align: right;\">\n",
       "      <th></th>\n",
       "      <th>ph</th>\n",
       "      <th>Hardness</th>\n",
       "      <th>Solids</th>\n",
       "      <th>Chloramines</th>\n",
       "      <th>Sulfate</th>\n",
       "      <th>Conductivity</th>\n",
       "      <th>Organic_carbon</th>\n",
       "      <th>Trihalomethanes</th>\n",
       "      <th>Turbidity</th>\n",
       "    </tr>\n",
       "  </thead>\n",
       "  <tbody>\n",
       "    <tr>\n",
       "      <th>0</th>\n",
       "      <td>7.031684</td>\n",
       "      <td>237.083948</td>\n",
       "      <td>35434.280062</td>\n",
       "      <td>7.617649</td>\n",
       "      <td>381.337527</td>\n",
       "      <td>365.032503</td>\n",
       "      <td>13.453872</td>\n",
       "      <td>33.439868</td>\n",
       "      <td>3.825937</td>\n",
       "    </tr>\n",
       "    <tr>\n",
       "      <th>1</th>\n",
       "      <td>6.789821</td>\n",
       "      <td>197.300014</td>\n",
       "      <td>22527.681207</td>\n",
       "      <td>5.166942</td>\n",
       "      <td>399.981755</td>\n",
       "      <td>422.482029</td>\n",
       "      <td>15.916605</td>\n",
       "      <td>47.935105</td>\n",
       "      <td>4.512068</td>\n",
       "    </tr>\n",
       "    <tr>\n",
       "      <th>2</th>\n",
       "      <td>5.636924</td>\n",
       "      <td>159.139410</td>\n",
       "      <td>27283.780655</td>\n",
       "      <td>6.918727</td>\n",
       "      <td>328.907287</td>\n",
       "      <td>317.830981</td>\n",
       "      <td>13.611408</td>\n",
       "      <td>36.335199</td>\n",
       "      <td>3.007138</td>\n",
       "    </tr>\n",
       "    <tr>\n",
       "      <th>3</th>\n",
       "      <td>6.279842</td>\n",
       "      <td>175.890640</td>\n",
       "      <td>11582.505249</td>\n",
       "      <td>7.059985</td>\n",
       "      <td>333.076588</td>\n",
       "      <td>430.322092</td>\n",
       "      <td>15.674785</td>\n",
       "      <td>86.760257</td>\n",
       "      <td>3.278584</td>\n",
       "    </tr>\n",
       "    <tr>\n",
       "      <th>4</th>\n",
       "      <td>6.703487</td>\n",
       "      <td>182.129514</td>\n",
       "      <td>24316.875146</td>\n",
       "      <td>7.009806</td>\n",
       "      <td>341.333952</td>\n",
       "      <td>479.537497</td>\n",
       "      <td>20.088643</td>\n",
       "      <td>53.925045</td>\n",
       "      <td>4.223884</td>\n",
       "    </tr>\n",
       "  </tbody>\n",
       "</table>\n",
       "</div>"
      ],
      "text/plain": [
       "         ph    Hardness        Solids  Chloramines     Sulfate  Conductivity  \\\n",
       "0  7.031684  237.083948  35434.280062     7.617649  381.337527    365.032503   \n",
       "1  6.789821  197.300014  22527.681207     5.166942  399.981755    422.482029   \n",
       "2  5.636924  159.139410  27283.780655     6.918727  328.907287    317.830981   \n",
       "3  6.279842  175.890640  11582.505249     7.059985  333.076588    430.322092   \n",
       "4  6.703487  182.129514  24316.875146     7.009806  341.333952    479.537497   \n",
       "\n",
       "   Organic_carbon  Trihalomethanes  Turbidity  \n",
       "0       13.453872        33.439868   3.825937  \n",
       "1       15.916605        47.935105   4.512068  \n",
       "2       13.611408        36.335199   3.007138  \n",
       "3       15.674785        86.760257   3.278584  \n",
       "4       20.088643        53.925045   4.223884  "
      ]
     },
     "execution_count": 12,
     "metadata": {},
     "output_type": "execute_result"
    }
   ],
   "source": [
    "# Check the values in predictor variables\n",
    "x_train_smote.head()"
   ]
  },
  {
   "cell_type": "code",
   "execution_count": 13,
   "metadata": {},
   "outputs": [],
   "source": [
    "# Standard scaler function\n",
    "def scaler_transform(X, scaler = None):\n",
    "    \"\"\"\n",
    "    Fungsi untuk melakukan standardisasi\n",
    "    :param X: <pandas DataFrame> sampel data\n",
    "    :param scaler: <sklearn object> scaler, default None\n",
    "    :return X_scaled: <pandas Dataframe> sampel data OHE\n",
    "    :param scaler: <sklearn object> scaler, default None\n",
    "    \"\"\"\n",
    "    if scaler != None:\n",
    "        pass\n",
    "    else:\n",
    "        # Buat & fit encoder\n",
    "        scaler = StandardScaler()\n",
    "        scaler.fit(X)\n",
    "\n",
    "    # Tranform data\n",
    "    X_scaled = scaler.transform(X)\n",
    "    X_scaled = pd.DataFrame(X_scaled,\n",
    "                            columns = X.columns,\n",
    "                            index = X.index)\n",
    "    \n",
    "    return X_scaled, scaler"
   ]
  },
  {
   "cell_type": "code",
   "execution_count": 14,
   "metadata": {},
   "outputs": [],
   "source": [
    "# Scaling Train, Validation, Test data\n",
    "x_train_clean, scaler = scaler_transform(X = x_train_smote)\n",
    "\n",
    "x_test_clean, scaler = scaler_transform(X = x_test)\n",
    "\n",
    "x_valid_clean, scaler = scaler_transform(X = x_valid)"
   ]
  },
  {
   "cell_type": "code",
   "execution_count": 15,
   "metadata": {},
   "outputs": [
    {
     "data": {
      "text/html": [
       "<div>\n",
       "<style scoped>\n",
       "    .dataframe tbody tr th:only-of-type {\n",
       "        vertical-align: middle;\n",
       "    }\n",
       "\n",
       "    .dataframe tbody tr th {\n",
       "        vertical-align: top;\n",
       "    }\n",
       "\n",
       "    .dataframe thead th {\n",
       "        text-align: right;\n",
       "    }\n",
       "</style>\n",
       "<table border=\"1\" class=\"dataframe\">\n",
       "  <thead>\n",
       "    <tr style=\"text-align: right;\">\n",
       "      <th></th>\n",
       "      <th>ph</th>\n",
       "      <th>Hardness</th>\n",
       "      <th>Solids</th>\n",
       "      <th>Chloramines</th>\n",
       "      <th>Sulfate</th>\n",
       "      <th>Conductivity</th>\n",
       "      <th>Organic_carbon</th>\n",
       "      <th>Trihalomethanes</th>\n",
       "      <th>Turbidity</th>\n",
       "    </tr>\n",
       "  </thead>\n",
       "  <tbody>\n",
       "    <tr>\n",
       "      <th>0</th>\n",
       "      <td>-0.041083</td>\n",
       "      <td>1.252736</td>\n",
       "      <td>1.535609</td>\n",
       "      <td>0.317545</td>\n",
       "      <td>1.295205</td>\n",
       "      <td>-0.787365</td>\n",
       "      <td>-0.259992</td>\n",
       "      <td>-2.140418</td>\n",
       "      <td>-0.194425</td>\n",
       "    </tr>\n",
       "    <tr>\n",
       "      <th>1</th>\n",
       "      <td>-0.211849</td>\n",
       "      <td>0.008282</td>\n",
       "      <td>0.079171</td>\n",
       "      <td>-1.248129</td>\n",
       "      <td>1.809437</td>\n",
       "      <td>-0.060075</td>\n",
       "      <td>0.513382</td>\n",
       "      <td>-1.195754</td>\n",
       "      <td>0.710196</td>\n",
       "    </tr>\n",
       "    <tr>\n",
       "      <th>2</th>\n",
       "      <td>-1.025842</td>\n",
       "      <td>-1.185393</td>\n",
       "      <td>0.615871</td>\n",
       "      <td>-0.128973</td>\n",
       "      <td>-0.150889</td>\n",
       "      <td>-1.384919</td>\n",
       "      <td>-0.210521</td>\n",
       "      <td>-1.951728</td>\n",
       "      <td>-1.273960</td>\n",
       "    </tr>\n",
       "  </tbody>\n",
       "</table>\n",
       "</div>"
      ],
      "text/plain": [
       "         ph  Hardness    Solids  Chloramines   Sulfate  Conductivity  \\\n",
       "0 -0.041083  1.252736  1.535609     0.317545  1.295205     -0.787365   \n",
       "1 -0.211849  0.008282  0.079171    -1.248129  1.809437     -0.060075   \n",
       "2 -1.025842 -1.185393  0.615871    -0.128973 -0.150889     -1.384919   \n",
       "\n",
       "   Organic_carbon  Trihalomethanes  Turbidity  \n",
       "0       -0.259992        -2.140418  -0.194425  \n",
       "1        0.513382        -1.195754   0.710196  \n",
       "2       -0.210521        -1.951728  -1.273960  "
      ]
     },
     "execution_count": 15,
     "metadata": {},
     "output_type": "execute_result"
    }
   ],
   "source": [
    "# Check result\n",
    "x_train_clean.head(3)"
   ]
  },
  {
   "cell_type": "code",
   "execution_count": 16,
   "metadata": {},
   "outputs": [
    {
     "data": {
      "text/html": [
       "<div>\n",
       "<style scoped>\n",
       "    .dataframe tbody tr th:only-of-type {\n",
       "        vertical-align: middle;\n",
       "    }\n",
       "\n",
       "    .dataframe tbody tr th {\n",
       "        vertical-align: top;\n",
       "    }\n",
       "\n",
       "    .dataframe thead th {\n",
       "        text-align: right;\n",
       "    }\n",
       "</style>\n",
       "<table border=\"1\" class=\"dataframe\">\n",
       "  <thead>\n",
       "    <tr style=\"text-align: right;\">\n",
       "      <th></th>\n",
       "      <th>ph</th>\n",
       "      <th>Hardness</th>\n",
       "      <th>Solids</th>\n",
       "      <th>Chloramines</th>\n",
       "      <th>Sulfate</th>\n",
       "      <th>Conductivity</th>\n",
       "      <th>Organic_carbon</th>\n",
       "      <th>Trihalomethanes</th>\n",
       "      <th>Turbidity</th>\n",
       "    </tr>\n",
       "  </thead>\n",
       "  <tbody>\n",
       "    <tr>\n",
       "      <th>1205</th>\n",
       "      <td>-1.811385</td>\n",
       "      <td>1.877846</td>\n",
       "      <td>-1.580365</td>\n",
       "      <td>1.193226</td>\n",
       "      <td>-0.017864</td>\n",
       "      <td>0.114231</td>\n",
       "      <td>0.618712</td>\n",
       "      <td>0.001374</td>\n",
       "      <td>0.433179</td>\n",
       "    </tr>\n",
       "    <tr>\n",
       "      <th>2285</th>\n",
       "      <td>-0.006669</td>\n",
       "      <td>1.270897</td>\n",
       "      <td>1.360558</td>\n",
       "      <td>-1.482844</td>\n",
       "      <td>0.796206</td>\n",
       "      <td>1.486361</td>\n",
       "      <td>1.439262</td>\n",
       "      <td>1.276686</td>\n",
       "      <td>-0.228583</td>\n",
       "    </tr>\n",
       "    <tr>\n",
       "      <th>1177</th>\n",
       "      <td>-1.097549</td>\n",
       "      <td>0.075253</td>\n",
       "      <td>-0.381316</td>\n",
       "      <td>-1.458139</td>\n",
       "      <td>-1.081870</td>\n",
       "      <td>-0.970489</td>\n",
       "      <td>1.329499</td>\n",
       "      <td>0.570689</td>\n",
       "      <td>0.658335</td>\n",
       "    </tr>\n",
       "  </tbody>\n",
       "</table>\n",
       "</div>"
      ],
      "text/plain": [
       "            ph  Hardness    Solids  Chloramines   Sulfate  Conductivity  \\\n",
       "1205 -1.811385  1.877846 -1.580365     1.193226 -0.017864      0.114231   \n",
       "2285 -0.006669  1.270897  1.360558    -1.482844  0.796206      1.486361   \n",
       "1177 -1.097549  0.075253 -0.381316    -1.458139 -1.081870     -0.970489   \n",
       "\n",
       "      Organic_carbon  Trihalomethanes  Turbidity  \n",
       "1205        0.618712         0.001374   0.433179  \n",
       "2285        1.439262         1.276686  -0.228583  \n",
       "1177        1.329499         0.570689   0.658335  "
      ]
     },
     "execution_count": 16,
     "metadata": {},
     "output_type": "execute_result"
    }
   ],
   "source": [
    "# Check result\n",
    "x_valid_clean.head(3)"
   ]
  },
  {
   "cell_type": "code",
   "execution_count": 17,
   "metadata": {},
   "outputs": [
    {
     "data": {
      "text/html": [
       "<div>\n",
       "<style scoped>\n",
       "    .dataframe tbody tr th:only-of-type {\n",
       "        vertical-align: middle;\n",
       "    }\n",
       "\n",
       "    .dataframe tbody tr th {\n",
       "        vertical-align: top;\n",
       "    }\n",
       "\n",
       "    .dataframe thead th {\n",
       "        text-align: right;\n",
       "    }\n",
       "</style>\n",
       "<table border=\"1\" class=\"dataframe\">\n",
       "  <thead>\n",
       "    <tr style=\"text-align: right;\">\n",
       "      <th></th>\n",
       "      <th>ph</th>\n",
       "      <th>Hardness</th>\n",
       "      <th>Solids</th>\n",
       "      <th>Chloramines</th>\n",
       "      <th>Sulfate</th>\n",
       "      <th>Conductivity</th>\n",
       "      <th>Organic_carbon</th>\n",
       "      <th>Trihalomethanes</th>\n",
       "      <th>Turbidity</th>\n",
       "    </tr>\n",
       "  </thead>\n",
       "  <tbody>\n",
       "    <tr>\n",
       "      <th>160</th>\n",
       "      <td>-0.000621</td>\n",
       "      <td>1.503628</td>\n",
       "      <td>-0.310828</td>\n",
       "      <td>1.045218</td>\n",
       "      <td>-0.041799</td>\n",
       "      <td>0.219244</td>\n",
       "      <td>0.637657</td>\n",
       "      <td>-0.131883</td>\n",
       "      <td>-0.233559</td>\n",
       "    </tr>\n",
       "    <tr>\n",
       "      <th>1067</th>\n",
       "      <td>-0.000621</td>\n",
       "      <td>0.587566</td>\n",
       "      <td>0.096845</td>\n",
       "      <td>1.709769</td>\n",
       "      <td>1.421283</td>\n",
       "      <td>-0.621837</td>\n",
       "      <td>1.326157</td>\n",
       "      <td>-0.478159</td>\n",
       "      <td>0.537095</td>\n",
       "    </tr>\n",
       "    <tr>\n",
       "      <th>3070</th>\n",
       "      <td>-0.000621</td>\n",
       "      <td>0.574936</td>\n",
       "      <td>-0.154073</td>\n",
       "      <td>0.110978</td>\n",
       "      <td>-0.790681</td>\n",
       "      <td>-1.829574</td>\n",
       "      <td>0.234458</td>\n",
       "      <td>2.465344</td>\n",
       "      <td>-0.131067</td>\n",
       "    </tr>\n",
       "  </tbody>\n",
       "</table>\n",
       "</div>"
      ],
      "text/plain": [
       "            ph  Hardness    Solids  Chloramines   Sulfate  Conductivity  \\\n",
       "160  -0.000621  1.503628 -0.310828     1.045218 -0.041799      0.219244   \n",
       "1067 -0.000621  0.587566  0.096845     1.709769  1.421283     -0.621837   \n",
       "3070 -0.000621  0.574936 -0.154073     0.110978 -0.790681     -1.829574   \n",
       "\n",
       "      Organic_carbon  Trihalomethanes  Turbidity  \n",
       "160         0.637657        -0.131883  -0.233559  \n",
       "1067        1.326157        -0.478159   0.537095  \n",
       "3070        0.234458         2.465344  -0.131067  "
      ]
     },
     "execution_count": 17,
     "metadata": {},
     "output_type": "execute_result"
    }
   ],
   "source": [
    "# Check result\n",
    "x_test_clean.head(3)"
   ]
  },
  {
   "cell_type": "markdown",
   "metadata": {},
   "source": [
    "**Dump to pickle**"
   ]
  },
  {
   "cell_type": "code",
   "execution_count": 18,
   "metadata": {},
   "outputs": [],
   "source": [
    "utils.pickle_dump(x_train_clean, config[\"train_feng_set_path\"][0])\n",
    "utils.pickle_dump(y_train_smote, config[\"train_feng_set_path\"][1])\n",
    "\n",
    "utils.pickle_dump(x_valid_clean, config[\"valid_feng_set_path\"][0])\n",
    "utils.pickle_dump(y_valid, config[\"valid_feng_set_path\"][1])\n",
    "\n",
    "utils.pickle_dump(x_test_clean, config[\"test_feng_set_path\"][0])\n",
    "utils.pickle_dump(y_test, config[\"test_feng_set_path\"][1])"
   ]
  },
  {
   "cell_type": "code",
   "execution_count": null,
   "metadata": {},
   "outputs": [],
   "source": []
  }
 ],
 "metadata": {
  "kernelspec": {
   "display_name": "base",
   "language": "python",
   "name": "python3"
  },
  "language_info": {
   "codemirror_mode": {
    "name": "ipython",
    "version": 3
   },
   "file_extension": ".py",
   "mimetype": "text/x-python",
   "name": "python",
   "nbconvert_exporter": "python",
   "pygments_lexer": "ipython3",
   "version": "3.9.13"
  },
  "orig_nbformat": 4
 },
 "nbformat": 4,
 "nbformat_minor": 2
}
